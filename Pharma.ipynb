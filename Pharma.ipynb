{
  "cells": [
    {
      "cell_type": "code",
      "execution_count": 94,
      "metadata": {
        "id": "VjrluehQ68Ku"
      },
      "outputs": [],
      "source": [
        "import warnings\n",
        "warnings.filterwarnings('ignore')\n",
        "import pandas as pd\n",
        "import numpy as np\n",
        "from sklearn.model_selection import GridSearchCV\n",
        "from sklearn.ensemble import GradientBoostingRegressor"
      ]
    },
    {
      "cell_type": "code",
      "execution_count": 95,
      "metadata": {
        "id": "5i2lgYFypXz2"
      },
      "outputs": [],
      "source": [
        "# Read the data\n",
        "datafile_train = \"/content/counterfeit_train.csv\"\n",
        "datafile_test = \"/content/counterfeit_test.csv\"\n",
        "bd_train = pd.read_csv(datafile_train)\n",
        "bd_test = pd.read_csv(datafile_test)\n"
      ]
    },
    {
      "cell_type": "code",
      "execution_count": 96,
      "metadata": {
        "id": "syIXNSNk9PrW"
      },
      "outputs": [],
      "source": [
        "# Store Medicine_ID before dropping\n",
        "test_medicine_ids = bd_test['Medicine_ID'].copy()"
      ]
    },
    {
      "cell_type": "code",
      "execution_count": 97,
      "metadata": {
        "colab": {
          "base_uri": "https://localhost:8080/"
        },
        "id": "n3RjDcnq1XqU",
        "outputId": "62114555-ada9-4bc5-85bf-9702b0170eae"
      },
      "outputs": [
        {
          "name": "stdout",
          "output_type": "stream",
          "text": [
            "Available columns in training data:\n",
            "['Medicine_ID', 'Counterfeit_Weight', 'DistArea_ID', 'Active_Since', 'Medicine_MRP', 'Medicine_Type', 'SidEffect_Level', 'Availability_rating', 'Area_Type', 'Area_City_Type', 'Area_dist_level', 'Counterfeit_Sales']\n"
          ]
        }
      ],
      "source": [
        "# Print column names to verify\n",
        "print(\"Available columns in training data:\")\n",
        "print(bd_train.columns.tolist())"
      ]
    },
    {
      "cell_type": "code",
      "execution_count": 98,
      "metadata": {
        "colab": {
          "base_uri": "https://localhost:8080/"
        },
        "id": "imgFQr0Gpdp4",
        "outputId": "9f453860-a2e9-44b7-b986-d9ff0b1f91ed"
      },
      "outputs": [
        {
          "name": "stdout",
          "output_type": "stream",
          "text": [
            "Null values in training data:\n",
            "Medicine_ID               0\n",
            "Counterfeit_Weight     1166\n",
            "DistArea_ID               0\n",
            "Active_Since              0\n",
            "Medicine_MRP              0\n",
            "Medicine_Type             0\n",
            "SidEffect_Level           0\n",
            "Availability_rating       0\n",
            "Area_Type                 0\n",
            "Area_City_Type            0\n",
            "Area_dist_level           0\n",
            "Counterfeit_Sales         0\n",
            "dtype: int64\n"
          ]
        }
      ],
      "source": [
        "# Check null values\n",
        "print(\"Null values in training data:\")\n",
        "print(bd_train.isnull().sum())"
      ]
    },
    {
      "cell_type": "code",
      "execution_count": 99,
      "metadata": {
        "colab": {
          "base_uri": "https://localhost:8080/"
        },
        "id": "i4xm2F82pfvS",
        "outputId": "52e6b15d-5c27-490b-ff0e-f2146c6d15d8"
      },
      "outputs": [
        {
          "name": "stdout",
          "output_type": "stream",
          "text": [
            "\n",
            "Unique Medicine_IDs: 1557\n",
            "\n",
            "Training data shape: (6818, 12)\n"
          ]
        }
      ],
      "source": [
        "# Get unique Medicine_IDs\n",
        "print(\"\\nUnique Medicine_IDs:\", bd_train['Medicine_ID'].nunique())\n",
        "\n",
        "print(\"\\nTraining data shape:\", bd_train.shape)"
      ]
    },
    {
      "cell_type": "code",
      "execution_count": 100,
      "metadata": {
        "id": "pt1k2fkmphHh"
      },
      "outputs": [],
      "source": [
        "# Drop Medicine_ID and Counterfeit_Weight\n",
        "for col in ['Medicine_ID', 'Counterfeit_Weight']:\n",
        "    bd_train.drop(col, axis = 1, inplace=True)\n",
        "    bd_test.drop(col, axis = 1, inplace=True)"
      ]
    },
    {
      "cell_type": "code",
      "execution_count": 103,
      "metadata": {
        "colab": {
          "base_uri": "https://localhost:8080/"
        },
        "id": "E-3-IcjR0w1P",
        "outputId": "d88faf76-4358-4d96-d071-1f1b0cd281e9"
      },
      "outputs": [
        {
          "name": "stdout",
          "output_type": "stream",
          "text": [
            "\n",
            "Categorical columns found: ['Medicine_Type', 'SidEffect_Level', 'Area_City_Type']\n",
            "\n",
            "Processed training data shape: (6818, 37)\n"
          ]
        }
      ],
      "source": [
        "# Create dummies for categorical variables\n",
        "categorical_columns = bd_train.select_dtypes(include=['object']).columns\n",
        "print(\"\\nCategorical columns found:\", categorical_columns.tolist())\n",
        "\n",
        "for col in categorical_columns:\n",
        "    temp = pd.get_dummies(bd_train[col], prefix=col, drop_first=True)\n",
        "    bd_train = pd.concat([temp, bd_train], axis = 1)\n",
        "    bd_train.drop([col], axis = 1, inplace=True)\n",
        "\n",
        "    temp = pd.get_dummies(bd_test[col], prefix=col, drop_first=True)\n",
        "    bd_test = pd.concat([temp, bd_test], axis = 1)\n",
        "    bd_test.drop([col], axis = 1, inplace=True)\n",
        "\n",
        "print(\"\\nProcessed training data shape:\", bd_train.shape)"
      ]
    },
    {
      "cell_type": "code",
      "execution_count": 104,
      "metadata": {
        "colab": {
          "base_uri": "https://localhost:8080/"
        },
        "id": "Wr2ndYmO-wEV",
        "outputId": "79021cdf-f724-4b5c-b827-301b758e40b5"
      },
      "outputs": [
        {
          "name": "stdout",
          "output_type": "stream",
          "text": [
            "\n",
            "Remaining null values in training data:\n",
            "Series([], dtype: int64)\n",
            "\n",
            "Remaining null values in test data:\n",
            "Series([], dtype: int64)\n"
          ]
        }
      ],
      "source": [
        "# Check for any remaining null values\n",
        "print(\"\\nRemaining null values in training data:\")\n",
        "print(bd_train.isnull().sum()[bd_train.isnull().sum() > 0])\n",
        "print(\"\\nRemaining null values in test data:\")\n",
        "print(bd_test.isnull().sum()[bd_test.isnull().sum() > 0])"
      ]
    },
    {
      "cell_type": "code",
      "execution_count": 105,
      "metadata": {
        "id": "_SBIHF-D05MT"
      },
      "outputs": [],
      "source": [
        "target = 'Counterfeit_Sales'\n",
        "x_train = bd_train.drop(target, axis = 1)\n",
        "y_train = bd_train[target]"
      ]
    },
    {
      "cell_type": "code",
      "execution_count": 106,
      "metadata": {
        "id": "Vq_P19O2-5f6"
      },
      "outputs": [],
      "source": [
        "# Define simpler model parameters for initial test\n",
        "params = {\n",
        "    'n_estimators': [100],\n",
        "    'learning_rate': [0.1],\n",
        "    'max_depth': [3],\n",
        "    'min_samples_split': [2],\n",
        "    'min_samples_leaf': [1]\n",
        "}\n"
      ]
    },
    {
      "cell_type": "code",
      "execution_count": 90,
      "metadata": {
        "id": "AJsO5Q311t_h"
      },
      "outputs": [],
      "source": [
        "# Define model parameters\n",
        "params = {\n",
        "    'n_estimators': [100, 200, 300],\n",
        "    'learning_rate': [0.01, 0.05, 0.1],\n",
        "    'max_depth': [3, 4, 5],\n",
        "    'min_samples_split': [2, 5],\n",
        "    'min_samples_leaf': [1, 2]\n",
        "}"
      ]
    },
    {
      "cell_type": "code",
      "execution_count": 107,
      "metadata": {
        "id": "yTMZAE9s1wQQ"
      },
      "outputs": [],
      "source": [
        "# Initialize model\n",
        "model = GradientBoostingRegressor(random_state=42)"
      ]
    },
    {
      "cell_type": "code",
      "execution_count": 108,
      "metadata": {
        "id": "uqHDxfN_1y-v"
      },
      "outputs": [],
      "source": [
        "# Perform grid search\n",
        "grid_search = GridSearchCV(\n",
        "    model,\n",
        "    param_grid=params,\n",
        "    cv=5,\n",
        "    n_jobs=-1,\n",
        "    verbose=2,\n",
        "    scoring='neg_mean_absolute_error'\n",
        ")"
      ]
    },
    {
      "cell_type": "code",
      "execution_count": 114,
      "metadata": {
        "colab": {
          "base_uri": "https://localhost:8080/"
        },
        "id": "7Out8G2I12Cb",
        "outputId": "29ac80e6-bf91-49f4-be5d-1f9b212eb4d8"
      },
      "outputs": [
        {
          "name": "stdout",
          "output_type": "stream",
          "text": [
            "Fitting 5 folds for each of 1 candidates, totalling 5 fits\n",
            "\n",
            "Best parameters: {'learning_rate': 0.1, 'max_depth': 3, 'min_samples_leaf': 1, 'min_samples_split': 2, 'n_estimators': 100}\n",
            "Best MAE score: 752.9667352164341\n",
            "Expected score: 0.5464055811949192\n",
            "\n",
            "Submission file created successfully!\n"
          ]
        }
      ],
      "source": [
        "# Fit the model\n",
        "try:\n",
        "    grid_search.fit(x_train, y_train)\n",
        "    print(\"\\nBest parameters:\", grid_search.best_params_)\n",
        "    print(\"Best MAE score:\", -grid_search.best_score_)\n",
        "    print(\"Expected score:\", 1 - (-grid_search.best_score_/1660))\n",
        "\n",
        "    # Make predictions\n",
        "    predictions = grid_search.predict(bd_test)\n",
        "\n",
        "    # Create submission file with Medicine_ID\n",
        "    submissions = pd.DataFrame({\n",
        "        'Medicine_ID': test_medicine_ids,\n",
        "        'Counterfeit_Sales': predictions\n",
        "    })\n",
        "\n",
        "    # Save submission file\n",
        "    submissions.to_csv('output.csv', index=False)\n",
        "    print(\"\\nSubmission file created successfully!\")\n",
        "\n",
        "except Exception as e:\n",
        "    print(\"\\nError occurred during model fitting:\")\n",
        "    print(e)\n",
        "\n",
        "    # Print additional debugging information\n",
        "    print(\"\\nFeature names:\", x_train.columns.tolist())\n",
        "    print(\"Number of features:\", len(x_train.columns))\n",
        "    print(\"Sample of X values:\\n\", x_train.head())\n",
        "    print(\"Sample of y values:\\n\", y_train.head())"
      ]
    }
  ],
  "metadata": {
    "colab": {
      "provenance": []
    },
    "kernelspec": {
      "display_name": "Python 3",
      "name": "python3"
    },
    "language_info": {
      "name": "python"
    }
  },
  "nbformat": 4,
  "nbformat_minor": 0
}
